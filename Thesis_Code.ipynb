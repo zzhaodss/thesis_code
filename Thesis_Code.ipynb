{
  "cells": [
    {
      "cell_type": "code",
      "execution_count": null,
      "metadata": {
        "id": "LRKBi6vetCtI"
      },
      "outputs": [],
      "source": [
        "# Import packages\n",
        "import pandas as pd\n",
        "import matplotlib.pyplot as plt\n",
        "import seaborn as sns\n",
        "import numpy as np\n",
        "from sklearn.preprocessing import MinMaxScaler\n",
        "from sklearn.ensemble import RandomForestClassifier\n",
        "from sklearn.model_selection import train_test_split\n",
        "from sklearn.metrics import classification_report, confusion_matrix, accuracy_score, roc_auc_score, roc_curve, auc, precision_recall_curve\n",
        "from sklearn.model_selection import train_test_split\n",
        "from pandas import Series\n",
        "from sklearn.svm import SVC\n",
        "from sklearn.model_selection import GridSearchCV,RandomizedSearchCV\n",
        "from sklearn.impute import KNNImputer\n",
        "from imblearn.over_sampling import SMOTE\n",
        "from imblearn.under_sampling import RandomUnderSampler \n",
        "from sklearn.linear_model import LogisticRegression\n",
        "from xgboost import XGBClassifier\n",
        "from lightgbm import LGBMClassifier"
      ]
    },
    {
      "cell_type": "code",
      "execution_count": null,
      "metadata": {
        "colab": {
          "base_uri": "https://localhost:8080/"
        },
        "id": "dX16fRj6tbws",
        "outputId": "8359e528-c80b-46fe-e3d6-9cee88bb24b5"
      },
      "outputs": [
        {
          "output_type": "stream",
          "name": "stdout",
          "text": [
            "Mounted at /content/drive\n"
          ]
        }
      ],
      "source": [
        "from google.colab import drive\n",
        "drive.mount('/content/drive')"
      ]
    },
    {
      "cell_type": "markdown",
      "metadata": {
        "id": "6VGrfV4-WkW2"
      },
      "source": [
        "**Import data**\n",
        "\n"
      ]
    },
    {
      "cell_type": "code",
      "execution_count": null,
      "metadata": {
        "colab": {
          "base_uri": "https://localhost:8080/"
        },
        "id": "CR9_J5sftinE",
        "outputId": "71ee319f-9cb1-4e90-f6b5-0b28d3c65d6c"
      },
      "outputs": [
        {
          "name": "stderr",
          "output_type": "stream",
          "text": [
            "/usr/local/lib/python3.7/dist-packages/IPython/core/interactiveshell.py:3326: DtypeWarning: Columns (0) have mixed types.Specify dtype option on import or set low_memory=False.\n",
            "  exec(code_obj, self.user_global_ns, self.user_ns)\n"
          ]
        }
      ],
      "source": [
        "train = pd.read_csv('/content/drive/MyDrive/thesis/dataset and ipynb/trainset.csv')\n",
        "test = pd.read_csv('/content/drive/MyDrive/thesis/dataset and ipynb/testset.csv')\n",
        "\n",
        "train = train.iloc[:,1:]\n",
        "test = test.iloc[:-2,:]\n",
        "\n",
        "train=train.drop(['sku'], axis=1)\n",
        "test=test.drop(['sku'], axis=1)"
      ]
    },
    {
      "cell_type": "markdown",
      "metadata": {
        "id": "8eEdxswiXa9G"
      },
      "source": [
        "**Feature converting**"
      ]
    },
    {
      "cell_type": "markdown",
      "metadata": {
        "id": "3NKjjauaYpLd"
      },
      "source": [
        "Convert all yes/no data into 1/0"
      ]
    },
    {
      "cell_type": "code",
      "execution_count": null,
      "metadata": {
        "id": "uoo6LGnOXgpj"
      },
      "outputs": [],
      "source": [
        "# For trainset\n",
        "\n",
        "train['went_on_backorder']=train['went_on_backorder'].map( {'No': 0, 'Yes': 1} ).astype(int)\n",
        "train['potential_issue']=train['potential_issue'].map( {'No': 0, 'Yes': 1} ).astype(int)\n",
        "train['deck_risk']=train['deck_risk'].map( {'No': 0, 'Yes': 1} ).astype(int)\n",
        "train['oe_constraint']=train['oe_constraint'].map( {'No': 0, 'Yes': 1} ).astype(int)\n",
        "train['ppap_risk']=train['ppap_risk'].map( {'No': 0, 'Yes': 1} ).astype(int)\n",
        "train['stop_auto_buy']=train['stop_auto_buy'].map( {'No': 0, 'Yes': 1} ).astype(int)\n",
        "train['rev_stop']=train['rev_stop'].map( {'No': 0, 'Yes': 1} ).astype(int)\n",
        "\n",
        "# For testset\n",
        "\n",
        "test['went_on_backorder']=test['went_on_backorder'].map( {'No': 0, 'Yes': 1} ).astype(int)\n",
        "test['potential_issue']=test['potential_issue'].map( {'No': 0, 'Yes': 1} ).astype(int)\n",
        "test['deck_risk']=test['deck_risk'].map( {'No': 0, 'Yes': 1} ).astype(int)\n",
        "test['oe_constraint']=test['oe_constraint'].map( {'No': 0, 'Yes': 1} ).astype(int)\n",
        "test['ppap_risk']=test['ppap_risk'].map( {'No': 0, 'Yes': 1} ).astype(int)\n",
        "test['stop_auto_buy']=test['stop_auto_buy'].map( {'No': 0, 'Yes': 1} ).astype(int)\n",
        "test['rev_stop']=test['rev_stop'].map( {'No': 0, 'Yes': 1} ).astype(int)\n"
      ]
    },
    {
      "cell_type": "markdown",
      "metadata": {
        "id": "m7jDeEq7aRXN"
      },
      "source": [
        "Convert -99 in \"perf_6_month_avg\",\"perf_12_month_avg\" to NA)*"
      ]
    },
    {
      "cell_type": "code",
      "execution_count": null,
      "metadata": {
        "id": "jcGnDgywbyye"
      },
      "outputs": [],
      "source": [
        "train['perf_6_month_avg']=train['perf_6_month_avg'].replace(-99, np.NaN)\n",
        "train['perf_12_month_avg']=train['perf_12_month_avg'].replace(-99, np.NaN)\n",
        "\n",
        "test['perf_6_month_avg']=test['perf_6_month_avg'].replace(-99, np.NaN)\n",
        "test['perf_12_month_avg']=test['perf_12_month_avg'].replace(-99, np.NaN)"
      ]
    },
    {
      "cell_type": "markdown",
      "metadata": {
        "id": "lW5VZJb8aheE"
      },
      "source": [
        "Convert pieces_past_due and local_bo_qty to categorical features"
      ]
    },
    {
      "cell_type": "code",
      "execution_count": null,
      "metadata": {
        "id": "eNFX1pmmaqEs"
      },
      "outputs": [],
      "source": [
        "train[\"pieces_past_due\"]=train[\"pieces_past_due\"].astype(bool).astype(int)\n",
        "train[\"local_bo_qty\"]=train[\"local_bo_qty\"].astype(bool).astype(int)\n",
        "\n",
        "test[\"pieces_past_due\"]=test[\"pieces_past_due\"].astype(bool).astype(int)\n",
        "test[\"local_bo_qty\"]=test[\"local_bo_qty\"].astype(bool).astype(int)"
      ]
    },
    {
      "cell_type": "markdown",
      "metadata": {
        "id": "9vqtkD0KW1IM"
      },
      "source": [
        "**Normalization**"
      ]
    },
    {
      "cell_type": "code",
      "execution_count": null,
      "metadata": {
        "id": "jcp2eqyLPEs8"
      },
      "outputs": [],
      "source": [
        "# For trainset\n",
        "scaler = MinMaxScaler(feature_range=(0, 1))\n",
        "names = train.columns\n",
        "df1 = scaler.fit_transform(train)\n",
        "scaled_train = pd.DataFrame(df1, columns=names)\n",
        "\n",
        "# For testset\n",
        "df2 = scaler.fit_transform(test)\n",
        "scaled_test = pd.DataFrame(df2, columns=names)"
      ]
    },
    {
      "cell_type": "markdown",
      "metadata": {
        "id": "cm598wh1iZs4"
      },
      "source": [
        "**Train set sampling (20%)**"
      ]
    },
    {
      "cell_type": "code",
      "execution_count": null,
      "metadata": {
        "id": "OEFgi3wKjPPG"
      },
      "outputs": [],
      "source": [
        "scaled_train = scaled_train.sample(frac=0.2)"
      ]
    },
    {
      "cell_type": "markdown",
      "metadata": {
        "id": "zsgRYVJOlA8q"
      },
      "source": [
        "**Missing data imputation and evaluation (including median, knn, deletion)**"
      ]
    },
    {
      "cell_type": "code",
      "execution_count": null,
      "metadata": {
        "colab": {
          "base_uri": "https://localhost:8080/"
        },
        "id": "wF1IgoRHvgjh",
        "outputId": "8a7fc609-6401-4489-e311-cf3d518dc8f5"
      },
      "outputs": [
        {
          "data": {
            "text/plain": [
              "national_inv         0.000000\n",
              "lead_time            5.963172\n",
              "in_transit_qty       0.000000\n",
              "forecast_3_month     0.000000\n",
              "forecast_6_month     0.000000\n",
              "forecast_9_month     0.000000\n",
              "sales_1_month        0.000000\n",
              "sales_3_month        0.000000\n",
              "sales_6_month        0.000000\n",
              "sales_9_month        0.000000\n",
              "min_bank             0.000000\n",
              "potential_issue      0.000000\n",
              "pieces_past_due      0.000000\n",
              "perf_6_month_avg     7.621781\n",
              "perf_12_month_avg    7.187800\n",
              "local_bo_qty         0.000000\n",
              "deck_risk            0.000000\n",
              "oe_constraint        0.000000\n",
              "ppap_risk            0.000000\n",
              "stop_auto_buy        0.000000\n",
              "rev_stop             0.000000\n",
              "went_on_backorder    0.000000\n",
              "dtype: float64"
            ]
          },
          "execution_count": 34,
          "metadata": {},
          "output_type": "execute_result"
        }
      ],
      "source": [
        "# Check missing values by features\n",
        "\n",
        "percent_missing = scaled_train.isnull().sum() * 100 / len(scaled_train)\n",
        "percent_missing "
      ]
    },
    {
      "cell_type": "markdown",
      "metadata": {
        "id": "1aPdkXutd3_W"
      },
      "source": [
        "**Process train set with combined missing value imputation + imbalanced data pre-processing，and random forest baseline evaluation**"
      ]
    },
    {
      "cell_type": "code",
      "execution_count": null,
      "metadata": {
        "id": "XqmrFsSXelE-"
      },
      "outputs": [],
      "source": [
        "sub_train = scaled_train.copy()"
      ]
    },
    {
      "cell_type": "code",
      "execution_count": null,
      "metadata": {
        "colab": {
          "base_uri": "https://localhost:8080/"
        },
        "id": "-2fAm_WleHrt",
        "outputId": "15bd54db-b783-44a6-f92e-4ec666d63ca3"
      },
      "outputs": [
        {
          "name": "stdout",
          "output_type": "stream",
          "text": [
            "Random Forest Classifier report \n",
            "               precision    recall  f1-score   support\n",
            "\n",
            "         0.0       0.99      0.99      0.99     33404\n",
            "         1.0       0.99      0.99      0.99     33649\n",
            "\n",
            "    accuracy                           0.99     67053\n",
            "   macro avg       0.99      0.99      0.99     67053\n",
            "weighted avg       0.99      0.99      0.99     67053\n",
            "\n"
          ]
        }
      ],
      "source": [
        "# 1. kNN x SMOTE, takes 24 minutes\n",
        "\n",
        "# knn part\n",
        "\n",
        "train_mix_1 = sub_train.copy()\n",
        "\n",
        "imputer = KNNImputer(n_neighbors=3)\n",
        "\n",
        "imputed = imputer.fit_transform(train_mix_1)\n",
        "\n",
        "train_mix_1_imputed = pd.DataFrame(imputed, columns=train_mix_1.columns)\n",
        "\n",
        "# split\n",
        "\n",
        "X = train_mix_1_imputed.drop(['went_on_backorder'], axis = 1) # everything except backorder\n",
        "Y = train_mix_1_imputed['went_on_backorder'] # only backorder\n",
        "\n",
        "# SMOTE part\n",
        "\n",
        "oversampler = SMOTE(random_state = 0)\n",
        "X, Y = oversampler.fit_resample(X, Y)\n",
        "\n",
        "# Validation\n",
        "\n",
        "X_train, X_validation, Y_train, Y_validation = train_test_split(X, Y, test_size = 0.1, random_state = 0)\n",
        "\n",
        "RF = RandomForestClassifier()\n",
        "RF.fit(X_train, Y_train)\n",
        "\n",
        "Y_pred = RF.predict(X_validation)\n",
        "print(\"Random Forest Classifier report \\n\", classification_report(Y_validation, Y_pred))"
      ]
    },
    {
      "cell_type": "code",
      "execution_count": null,
      "metadata": {
        "colab": {
          "base_uri": "https://localhost:8080/"
        },
        "id": "PdjrmiGIeOed",
        "outputId": "06df1eac-2c29-4387-eab9-eb4b46bec12f"
      },
      "outputs": [
        {
          "output_type": "stream",
          "name": "stdout",
          "text": [
            "Random Forest Classifier report \n",
            "               precision    recall  f1-score   support\n",
            "\n",
            "         0.0       0.90      0.81      0.85       209\n",
            "         1.0       0.84      0.92      0.88       231\n",
            "\n",
            "    accuracy                           0.87       440\n",
            "   macro avg       0.87      0.86      0.86       440\n",
            "weighted avg       0.87      0.87      0.87       440\n",
            "\n"
          ]
        }
      ],
      "source": [
        "# 2. kNN x RUS, takes 26 minutes\n",
        "\n",
        "# knn part\n",
        "\n",
        "train_mix_2 = sub_train.copy()\n",
        "\n",
        "imputer = KNNImputer(n_neighbors=3)\n",
        "\n",
        "imputed = imputer.fit_transform(train_mix_2)\n",
        "\n",
        "train_mix_2_imputed = pd.DataFrame(imputed, columns=train_mix_2.columns)\n",
        "\n",
        "# split\n",
        "\n",
        "X = train_mix_2_imputed.drop(['went_on_backorder'], axis = 1) # everything except backorder\n",
        "Y = train_mix_2_imputed['went_on_backorder'] # only backorder\n",
        "\n",
        "# RUS part\n",
        "\n",
        "undersampler = RandomUnderSampler(random_state = 0)\n",
        "X, Y = undersampler.fit_resample(X, Y)\n",
        "\n",
        "# Validation\n",
        "\n",
        "X_train, X_validation, Y_train, Y_validation = train_test_split(X, Y, test_size = 0.1, random_state = 0)\n",
        "\n",
        "RF = RandomForestClassifier()\n",
        "RF.fit(X_train, Y_train)\n",
        "\n",
        "Y_pred = RF.predict(X_validation)\n",
        "print(\"Random Forest Classifier report \\n\", classification_report(Y_validation, Y_pred))"
      ]
    },
    {
      "cell_type": "code",
      "execution_count": null,
      "metadata": {
        "colab": {
          "base_uri": "https://localhost:8080/"
        },
        "id": "PmPA_nIneOqE",
        "outputId": "41fe8435-28c3-460c-bbf2-2da21db16d2b"
      },
      "outputs": [
        {
          "name": "stdout",
          "output_type": "stream",
          "text": [
            "Random Forest Classifier report \n",
            "               precision    recall  f1-score   support\n",
            "\n",
            "         0.0       1.00      0.99      0.99     30751\n",
            "         1.0       0.99      1.00      0.99     31155\n",
            "\n",
            "    accuracy                           0.99     61906\n",
            "   macro avg       0.99      0.99      0.99     61906\n",
            "weighted avg       0.99      0.99      0.99     61906\n",
            "\n"
          ]
        }
      ],
      "source": [
        "# 3. Deletion x SMOTE, takes 4 minutes\n",
        "\n",
        "# deletion part\n",
        "\n",
        "train_mix_3 = sub_train.copy()\n",
        "\n",
        "train_mix_3.dropna(axis='index', inplace=True)\n",
        "\n",
        "# split\n",
        "\n",
        "X = train_mix_3.drop(['went_on_backorder'], axis = 1) # everything except backorder\n",
        "Y = train_mix_3['went_on_backorder'] # only backorder\n",
        "\n",
        "# SMOTE part\n",
        "\n",
        "oversampler = SMOTE(random_state = 0)\n",
        "X, Y = oversampler.fit_resample(X, Y)\n",
        "\n",
        "# Validation\n",
        "\n",
        "X_train, X_validation, Y_train, Y_validation = train_test_split(X, Y, test_size = 0.1, random_state = 0)\n",
        "\n",
        "RF = RandomForestClassifier()\n",
        "RF.fit(X_train, Y_train)\n",
        "\n",
        "Y_pred = RF.predict(X_validation)\n",
        "print(\"Random Forest Classifier report \\n\", classification_report(Y_validation, Y_pred))"
      ]
    },
    {
      "cell_type": "code",
      "execution_count": null,
      "metadata": {
        "colab": {
          "base_uri": "https://localhost:8080/"
        },
        "id": "FTBTzqN6eO21",
        "outputId": "8883974b-2fca-4b4e-960d-c5f53fdd5a55"
      },
      "outputs": [
        {
          "name": "stdout",
          "output_type": "stream",
          "text": [
            "Random Forest Classifier report \n",
            "               precision    recall  f1-score   support\n",
            "\n",
            "         0.0       0.88      0.89      0.88       209\n",
            "         1.0       0.90      0.89      0.89       233\n",
            "\n",
            "    accuracy                           0.89       442\n",
            "   macro avg       0.89      0.89      0.89       442\n",
            "weighted avg       0.89      0.89      0.89       442\n",
            "\n"
          ]
        }
      ],
      "source": [
        "# 4. Deletion x RUS, takes 1 minutes\n",
        "\n",
        "# deletion part\n",
        "\n",
        "train_mix_4 = sub_train.copy()\n",
        "\n",
        "train_mix_4.dropna(axis='index', inplace=True)\n",
        "\n",
        "# split\n",
        "\n",
        "X = train_mix_4.drop(['went_on_backorder'], axis = 1) # everything except backorder\n",
        "Y = train_mix_4['went_on_backorder'] # only backorder\n",
        "\n",
        "# RUS part\n",
        "\n",
        "undersampler = RandomUnderSampler(random_state = 0)\n",
        "X, Y = undersampler.fit_resample(X, Y)\n",
        "\n",
        "# Validation\n",
        "\n",
        "X_train, X_validation, Y_train, Y_validation = train_test_split(X, Y, test_size = 0.1, random_state = 0)\n",
        "\n",
        "RF = RandomForestClassifier()\n",
        "RF.fit(X_train, Y_train)\n",
        "\n",
        "Y_pred = RF.predict(X_validation)\n",
        "print(\"Random Forest Classifier report \\n\", classification_report(Y_validation, Y_pred))"
      ]
    },
    {
      "cell_type": "markdown",
      "metadata": {
        "id": "a_Lh1LRQElKr"
      },
      "source": [
        "**Hyperparameter tuning**\n"
      ]
    },
    {
      "cell_type": "code",
      "execution_count": null,
      "metadata": {
        "id": "C2Y3x8szLma4"
      },
      "outputs": [],
      "source": [
        "# Prepare the selected trainset\n",
        "# missing value: deletion\n",
        "# imbalance: SMOTE\n",
        "\n",
        "train = scaled_train.copy()\n",
        "\n",
        "train.dropna(axis='index', inplace=True)\n",
        "\n",
        "X = train.drop(['went_on_backorder'], axis = 1) # everything except backorder\n",
        "Y = train['went_on_backorder'] # only backorder\n",
        "\n",
        "oversampler = SMOTE(random_state = 0)\n",
        "X, Y = oversampler.fit_resample(X, Y)\n",
        "\n",
        "X_train, X_validation, Y_train, Y_validation = train_test_split(X, Y, test_size = 0.1, random_state = 0) "
      ]
    },
    {
      "cell_type": "code",
      "execution_count": null,
      "metadata": {
        "id": "8Cpj2dnsEkk7"
      },
      "outputs": [],
      "source": [
        "# XGB tuning\n",
        "parameterset = {'n_estimators': [10,50,100,200],  \n",
        "        'learning_rate': [0.01, 0.05, 0.1,0.5]} \n",
        "\n",
        "gridXGB = GridSearchCV(XGBClassifier(),parameterset,cv=5,scoring = 'precision') \n",
        "gridXGB.fit(X_train,Y_train.iloc[:,0])\n",
        "\n",
        "tableXGB = pd.DataFrame(gridXGB.cv_results_)\n",
        "tableXGB"
      ]
    },
    {
      "cell_type": "code",
      "source": [
        "# LGB tuning\n",
        "parameterset = {'n_estimators': [10,50,100,200],  \n",
        "        'learning_rate': [0.01, 0.05, 0.1,0.5]} \n",
        "\n",
        "gridLGB = GridSearchCV(LGBMClassifier(),parameterset,cv=5,scoring = 'precision') \n",
        "gridLGB.fit(X_train,Y_train.iloc[:,0])\n",
        "\n",
        "tableLGB = pd.DataFrame(gridLGB.cv_results_)\n",
        "tableLGB"
      ],
      "metadata": {
        "id": "Ffk_MeMFMi4y"
      },
      "execution_count": null,
      "outputs": []
    },
    {
      "cell_type": "code",
      "execution_count": null,
      "metadata": {
        "id": "kbNHl0rpQpCa"
      },
      "outputs": [],
      "source": [
        "# LR tuning\n",
        "\n",
        "parameterset = {'penalty': [\"l2\"],  \n",
        "        'solver': ['newton-cg', 'lbfgs', 'liblinear', 'sag', 'saga'],\n",
        "        'C' :[100, 10, 1.0, 0.1, 0.01],\n",
        "        'max_iter':[100000]} \n",
        "\n",
        "gridlr = GridSearchCV(LogisticRegression(),parameterset,cv=5,scoring = 'precision') \n",
        "gridlr.fit(X_train,Y_train.iloc[:,0]) \n",
        "\n",
        "tableLR = pd.DataFrame(gridlr.cv_results_)\n",
        "tableLR"
      ]
    },
    {
      "cell_type": "code",
      "source": [
        "# RF tuning\n",
        "\n",
        "parameterset = {'n_estimators': [25,50,75,100],  \n",
        "        'max_depth': [5,6,7,8,9]} \n",
        "\n",
        "gridrf = GridSearchCV(RandomForestClassifier(),parameterset,cv=5,scoring = 'precision') \n",
        "gridrf.fit(X_train,Y_train.iloc[:,0]) \n",
        "\n",
        "tableRF = pd.DataFrame(gridrf.cv_results_)\n",
        "print(tableRF)"
      ],
      "metadata": {
        "id": "WQ4W0I-4MVkS"
      },
      "execution_count": null,
      "outputs": []
    },
    {
      "cell_type": "markdown",
      "metadata": {
        "id": "TwKk1SAvR_qq"
      },
      "source": [
        "## Model Selection"
      ]
    },
    {
      "cell_type": "code",
      "execution_count": null,
      "metadata": {
        "id": "Y9u-b38NSKI_"
      },
      "outputs": [],
      "source": [
        "# train set\n",
        "\n",
        "train = scaled_train.copy()\n",
        "\n",
        "train.dropna(axis='index', inplace=True)\n",
        "\n",
        "X = train.drop(['went_on_backorder'], axis = 1) # everything except backorder\n",
        "Y = train['went_on_backorder'] # only backorder\n",
        "\n",
        "from imblearn.over_sampling import SMOTE # 6s\n",
        "oversampler = SMOTE(random_state = 0)\n",
        "X, Y = oversampler.fit_resample(X, Y)"
      ]
    },
    {
      "cell_type": "code",
      "execution_count": null,
      "metadata": {
        "id": "2zIPfRsWSLSI"
      },
      "outputs": [],
      "source": [
        "# test set\n",
        "\n",
        "scaled_test = pd.read_csv('/content/drive/MyDrive/thesis/dataset and ipynb/11_21_test.csv')\n",
        "scaled_test = scaled_test.iloc[:,1:]\n",
        "\n",
        "test = scaled_test.copy()\n",
        "\n",
        "test.dropna(axis='index', inplace=True)"
      ]
    },
    {
      "cell_type": "code",
      "execution_count": null,
      "metadata": {
        "id": "dI1bLxtjStu4"
      },
      "outputs": [],
      "source": [
        "Y_validation = test.drop(['went_on_backorder'], axis = 1)\n",
        "Y_test = test['went_on_backorder'] "
      ]
    },
    {
      "cell_type": "code",
      "execution_count": null,
      "metadata": {
        "colab": {
          "base_uri": "https://localhost:8080/"
        },
        "id": "QOWGevJJSDtg",
        "outputId": "dfff7adb-47dd-4ee0-e389-24c708e587a2"
      },
      "outputs": [
        {
          "name": "stdout",
          "output_type": "stream",
          "text": [
            "Random Forest Classifier report \n",
            "               precision    recall  f1-score   support\n",
            "\n",
            "         0.0       0.99      0.78      0.87    220409\n",
            "         1.0       0.03      0.49      0.05      2564\n",
            "\n",
            "    accuracy                           0.78    222973\n",
            "   macro avg       0.51      0.63      0.46    222973\n",
            "weighted avg       0.98      0.78      0.87    222973\n",
            "\n"
          ]
        }
      ],
      "source": [
        "# Random forest\n",
        "\n",
        "RF = RandomForestClassifier(n_estimators=25, max_depth=9, random_state=0)\n",
        "RF.fit(X,Y)\n",
        "\n",
        "Y_pred = RF.predict(Y_validation)\n",
        "print(\"Random Forest Classifier report \\n\", classification_report(Y_test, Y_pred))"
      ]
    },
    {
      "cell_type": "code",
      "execution_count": null,
      "metadata": {
        "colab": {
          "base_uri": "https://localhost:8080/",
          "height": 312
        },
        "id": "z3gtQQppT4n3",
        "outputId": "808c29fc-6606-4379-e96f-6254b2e6437e"
      },
      "outputs": [
        {
          "data": {
            "text/plain": [
              "Text(0.5, 15.0, 'Predicted label')"
            ]
          },
          "execution_count": 77,
          "metadata": {},
          "output_type": "execute_result"
        },
        {
          "data": {
            "image/png": "[encoded data removed]",
            "text/plain": [
              "<Figure size 360x288 with 2 Axes>"
            ]
          },
          "metadata": {},
          "output_type": "display_data"
        }
      ],
      "source": [
        "# confusion matrix\n",
        "\n",
        "plt.figure(figsize = (5,4))\n",
        "cm = confusion_matrix(Y_test, Y_pred)\n",
        "sns.heatmap(cm, annot = True,fmt='g')\n",
        "plt.title('Random Forest Confusion matrix')\n",
        "plt.ylabel('True label')\n",
        "plt.xlabel('Predicted label')"
      ]
    },
    {
      "cell_type": "code",
      "execution_count": null,
      "metadata": {
        "colab": {
          "base_uri": "https://localhost:8080/"
        },
        "id": "qBjEZKOwVnD3",
        "outputId": "42583ee0-bb25-4dd5-a9d5-d262d9f725e1"
      },
      "outputs": [
        {
          "name": "stdout",
          "output_type": "stream",
          "text": [
            "Random Forest Classifier report \n",
            "               precision    recall  f1-score   support\n",
            "\n",
            "         0.0       0.99      0.75      0.85    220409\n",
            "         1.0       0.02      0.41      0.04      2564\n",
            "\n",
            "    accuracy                           0.75    222973\n",
            "   macro avg       0.50      0.58      0.45    222973\n",
            "weighted avg       0.98      0.75      0.85    222973\n",
            "\n"
          ]
        }
      ],
      "source": [
        "# Logistic Regression\n",
        "\n",
        "LR = LogisticRegression(penalty=\"l2\",C=0.01, solver=\"liblinear\",random_state=0)\n",
        "LR.fit(X,Y)\n",
        "\n",
        "Y_pred = LR.predict(Y_validation)\n",
        "print(\"Random Forest Classifier report \\n\", classification_report(Y_test, Y_pred))"
      ]
    },
    {
      "cell_type": "code",
      "execution_count": null,
      "metadata": {
        "colab": {
          "base_uri": "https://localhost:8080/",
          "height": 312
        },
        "id": "8BvbEKBupvqm",
        "outputId": "f08aa865-609c-4668-b642-63f533d39dec"
      },
      "outputs": [
        {
          "data": {
            "text/plain": [
              "Text(0.5, 15.0, 'Predicted label')"
            ]
          },
          "execution_count": 73,
          "metadata": {},
          "output_type": "execute_result"
        },
        {
          "data": {
            "image/png": "[encoded data removed]",
            "text/plain": [
              "<Figure size 360x288 with 2 Axes>"
            ]
          },
          "metadata": {},
          "output_type": "display_data"
        }
      ],
      "source": [
        "# confusion matrix\n",
        "\n",
        "plt.figure(figsize = (5,4))\n",
        "cm = confusion_matrix(Y_test, Y_pred)\n",
        "sns.heatmap(cm, annot = True,fmt='g')\n",
        "plt.title('Logistic Regression Confusion matrix')\n",
        "plt.ylabel('True label')\n",
        "plt.xlabel('Predicted label')"
      ]
    },
    {
      "cell_type": "code",
      "execution_count": null,
      "metadata": {
        "colab": {
          "base_uri": "https://localhost:8080/"
        },
        "id": "Jt892f-CsDjs",
        "outputId": "fe562951-88a6-4234-cf40-d8295c0391ac"
      },
      "outputs": [
        {
          "name": "stdout",
          "output_type": "stream",
          "text": [
            "Random Forest Classifier report \n",
            "               precision    recall  f1-score   support\n",
            "\n",
            "         0.0       0.99      0.88      0.93    220409\n",
            "         1.0       0.04      0.44      0.08      2564\n",
            "\n",
            "    accuracy                           0.88    222973\n",
            "   macro avg       0.52      0.66      0.50    222973\n",
            "weighted avg       0.98      0.88      0.92    222973\n",
            "\n"
          ]
        }
      ],
      "source": [
        "# XGB\n",
        "XGB = XGBClassifier(n_estimators =100, learning_rate =0.5,random_state=0)\n",
        "XGB.fit(X,Y)\n",
        "\n",
        "Y_pred = XGB.predict(Y_validation)\n",
        "print(\"Random Forest Classifier report \\n\", classification_report(Y_test, Y_pred))"
      ]
    },
    {
      "cell_type": "code",
      "execution_count": null,
      "metadata": {
        "colab": {
          "base_uri": "https://localhost:8080/",
          "height": 312
        },
        "id": "XtJvkFfGsW3t",
        "outputId": "d44d8266-d8d3-4135-a14d-791d8567ebb5"
      },
      "outputs": [
        {
          "data": {
            "text/plain": [
              "Text(0.5, 15.0, 'Predicted label')"
            ]
          },
          "execution_count": 71,
          "metadata": {},
          "output_type": "execute_result"
        },
        {
          "data": {
            "image/png": "[encoded data removed]",
            "text/plain": [
              "<Figure size 360x288 with 2 Axes>"
            ]
          },
          "metadata": {},
          "output_type": "display_data"
        }
      ],
      "source": [
        "# confusion matrix\n",
        "\n",
        "plt.figure(figsize = (5,4))\n",
        "cm = confusion_matrix(Y_test, Y_pred)\n",
        "sns.heatmap(cm, annot = True,fmt='g')\n",
        "plt.title('Extreme Gradient Boosting Confusion matrix')\n",
        "plt.ylabel('True label')\n",
        "plt.xlabel('Predicted label')"
      ]
    },
    {
      "cell_type": "code",
      "execution_count": null,
      "metadata": {
        "colab": {
          "base_uri": "https://localhost:8080/"
        },
        "id": "Mq1qp4Zb7pQK",
        "outputId": "110c85c4-6535-4c43-fc73-47ceebeb3bb7"
      },
      "outputs": [
        {
          "name": "stdout",
          "output_type": "stream",
          "text": [
            "Random Forest Classifier report \n",
            "               precision    recall  f1-score   support\n",
            "\n",
            "         0.0       1.00      0.63      0.77    220409\n",
            "         1.0       0.02      0.76      0.04      2564\n",
            "\n",
            "    accuracy                           0.63    222973\n",
            "   macro avg       0.51      0.69      0.41    222973\n",
            "weighted avg       0.98      0.63      0.76    222973\n",
            "\n"
          ]
        }
      ],
      "source": [
        "# LGB\n",
        "\n",
        "LGB = LGBMClassifier(n_estimators =100, learning_rate =0.5,random_state=0)\n",
        "LGB.fit(X,Y)\n",
        "\n",
        "Y_pred = LGB.predict(Y_validation)\n",
        "print(\"Random Forest Classifier report \\n\", classification_report(Y_test, Y_pred))"
      ]
    },
    {
      "cell_type": "code",
      "execution_count": null,
      "metadata": {
        "colab": {
          "base_uri": "https://localhost:8080/",
          "height": 312
        },
        "id": "pPklXPSk8Xyy",
        "outputId": "15234e5a-6728-4d7d-9a34-6f992511e77e"
      },
      "outputs": [
        {
          "data": {
            "text/plain": [
              "Text(0.5, 15.0, 'Predicted label')"
            ]
          },
          "execution_count": 7,
          "metadata": {},
          "output_type": "execute_result"
        },
        {
          "data": {
            "image/png": "[encoded data removed]",
            "text/plain": [
              "<Figure size 360x288 with 2 Axes>"
            ]
          },
          "metadata": {},
          "output_type": "display_data"
        }
      ],
      "source": [
        "# confusion matrix\n",
        "\n",
        "plt.figure(figsize = (5,4))\n",
        "cm = confusion_matrix(Y_test, Y_pred)\n",
        "sns.heatmap(cm, annot = True,fmt='g')\n",
        "plt.title('Light Gradient Boosting Confusion matrix')\n",
        "plt.ylabel('True label')\n",
        "plt.xlabel('Predicted label')"
      ]
    },
    {
      "cell_type": "code",
      "source": [
        "# ROC-AUC graph for all models\n",
        "\n",
        "classifiers = [RandomForestClassifier(n_estimators=25, max_depth=9, random_state=0),  \n",
        "               LogisticRegression(penalty=\"l2\",C=0.01, solver=\"liblinear\",random_state=0), \n",
        "               XGBClassifier(n_estimators =100, learning_rate =0.5,random_state=0),\n",
        "               LGBMClassifier(n_estimators =100, learning_rate =0.5,random_state=0)]\n",
        "\n",
        "# Define a result table as a DataFrame\n",
        "result_table = pd.DataFrame(columns=['classifiers', 'fpr','tpr','auc'])\n",
        "\n",
        "# Train the models and record the results\n",
        "for cls in classifiers:\n",
        "    model = cls.fit(X, Y)\n",
        "    yproba = model.predict(Y_validation)\n",
        "    \n",
        "    fpr, tpr, _ = roc_curve(Y_test,  yproba)\n",
        "    auc = roc_auc_score(Y_test, yproba)\n",
        "    \n",
        "    result_table = result_table.append({'classifiers':cls.__class__.__name__,\n",
        "                                        'fpr':fpr, \n",
        "                                        'tpr':tpr, \n",
        "                                        'auc':auc}, ignore_index=True)\n",
        "\n",
        "# Set name of the classifiers as index labels\n",
        "result_table.set_index('classifiers', inplace=True)"
      ],
      "metadata": {
        "id": "Ocyziz3BPeRM"
      },
      "execution_count": null,
      "outputs": []
    },
    {
      "cell_type": "code",
      "source": [
        "fig = plt.figure(figsize=(8,6))\n",
        "\n",
        "for i in result_table.index:\n",
        "    plt.plot(result_table.loc[i]['fpr'], \n",
        "             result_table.loc[i]['tpr'], \n",
        "             label=\"{}, AUC={:.3f}\".format(i, result_table.loc[i]['auc']))\n",
        "    \n",
        "plt.plot([0,1], [0,1], color='orange', linestyle='--')\n",
        "\n",
        "plt.xticks(np.arange(0.0, 1.1, step=0.1))\n",
        "plt.xlabel(\"False Positive Rate\", fontsize=15)\n",
        "\n",
        "plt.yticks(np.arange(0.0, 1.1, step=0.1))\n",
        "plt.ylabel(\"True Positive Rate\", fontsize=15)\n",
        "\n",
        "plt.title('ROC Curve Analysis', fontweight='bold', fontsize=15)\n",
        "plt.legend(prop={'size':13}, loc='lower right')\n",
        "\n",
        "plt.show()"
      ],
      "metadata": {
        "colab": {
          "base_uri": "https://localhost:8080/",
          "height": 411
        },
        "id": "NCBj9wLJPnkd",
        "outputId": "430d06e3-9db0-4602-9dfc-b3fc71893b65"
      },
      "execution_count": null,
      "outputs": [
        {
          "output_type": "display_data",
          "data": {
            "text/plain": [
              "<Figure size 576x432 with 1 Axes>"
            ],
            "image/png": "[encoded data removed]"
          },
          "metadata": {
            "needs_background": "light"
          }
        }
      ]
    }
  ],
  "metadata": {
    "colab": {
      "provenance": []
    },
    "gpuClass": "standard",
    "kernelspec": {
      "display_name": "Python 3",
      "name": "python3"
    },
    "language_info": {
      "name": "python"
    }
  },
  "nbformat": 4,
  "nbformat_minor": 0
}